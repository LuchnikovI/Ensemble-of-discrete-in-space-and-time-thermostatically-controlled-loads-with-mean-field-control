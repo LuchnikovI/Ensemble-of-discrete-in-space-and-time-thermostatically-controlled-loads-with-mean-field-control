{
 "cells": [
  {
   "cell_type": "code",
   "execution_count": null,
   "metadata": {},
   "outputs": [],
   "source": [
    "import mf_mdp as mm\n",
    "\n",
    "import numpy as np\n",
    "import matplotlib.pyplot as plt\n",
    "from scipy import linalg\n",
    "from matplotlib import rc\n",
    "rc('font',**{'family':'sans-serif','sans-serif':['Helvetica'], 'size':24})\n",
    "## for Palatino and other serif fonts use:\n",
    "#rc('font',**{'family':'serif','serif':['Palatino']})\n",
    "rc('text', usetex=True)\n",
    "rc('xtick', labelsize=24)\n",
    "rc('ytick', labelsize=24)\n",
    "\n",
    "############\n",
    "#parameters\n",
    "############\n",
    "nn = 12 #number of states in comfortable zone\n",
    "qq = np.arange(1,12,1) #array of number of states in uncomfortable zone\n",
    "dr = 0.005\n",
    "dalpha = 0.4\n",
    "max_alpha = 60\n",
    "max_r = 0.7\n",
    "epsilon = 0.05\n",
    "############\n",
    "############\n",
    "\n",
    "coef = qq[-1] + 1\n",
    "y = np.arange(0, max_r, dr)\n",
    "x = np.arange(0, max_alpha, dalpha)\n",
    "fig = plt.figure()\n",
    "fig.set_size_inches(15., 9.)  \n",
    "for a in qq:\n",
    "    q = a\n",
    "    n = nn + 2*a\n",
    "    gaps = np.array([])\n",
    "    alpha = 0.\n",
    "    for k in range(int(max_alpha/dalpha)):\n",
    "        r = 0.\n",
    "        for m in range(int(max_r/dr)):\n",
    "            model = mm.mf_mdp_model(n = n, q = q, epsilon = epsilon, alpha = alpha, r = r)\n",
    "            gap = model.gap()\n",
    "            gaps = np.append(gaps, gap)\n",
    "            r = r + dr\n",
    "        alpha = alpha + dalpha\n",
    "    gaps = gaps.reshape(-1, int(max_r/dr))\n",
    "    gaps = gaps.T\n",
    "        \n",
    "    #plotting  \n",
    "    plt.contourf(x, y, coef*np.heaviside(gaps, 0), levels=qq + 1, cmap = 'plasma')\n",
    "    plt.xlabel(r'$\\alpha$')\n",
    "    plt.ylabel(r'r')\n",
    "    coef = coef - 1\n",
    "plt.savefig('Gap_vs_number_of_states.pdf')"
   ]
  }
 ],
 "metadata": {
  "kernelspec": {
   "display_name": "Python [default]",
   "language": "python",
   "name": "python3"
  },
  "language_info": {
   "codemirror_mode": {
    "name": "ipython",
    "version": 3
   },
   "file_extension": ".py",
   "mimetype": "text/x-python",
   "name": "python",
   "nbconvert_exporter": "python",
   "pygments_lexer": "ipython3",
   "version": "3.7.2"
  }
 },
 "nbformat": 4,
 "nbformat_minor": 2
}
